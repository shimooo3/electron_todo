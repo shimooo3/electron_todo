{
 "cells": [
  {
   "cell_type": "code",
   "execution_count": 6,
   "metadata": {},
   "outputs": [
    {
     "name": "stdout",
     "output_type": "stream",
     "text": [
      "リポジトリ: tools\n",
      "  ブランチ: main\n",
      "    日時: 2024-08-19 05:47:18+00:00\n",
      "      タイトル: sam2 with ultralytics\n",
      "----\n",
      "完了\n"
     ]
    }
   ],
   "source": [
    "from github import Github\n",
    "from dotenv import load_dotenv\n",
    "import os\n",
    "from datetime import datetime, timezone\n",
    "\n",
    "load_dotenv(\"./.env\")\n",
    "GITHUB_TOKEN = os.getenv(\"GITHUB_TOKEN\")\n",
    "\n",
    "# 上記で取得したaccess token\n",
    "token = GITHUB_TOKEN\n",
    "\n",
    "# tokenを設定\n",
    "g = Github(token)\n",
    "\n",
    "# 今日の日付を取得（UTC）\n",
    "today = datetime.now(timezone.utc).replace(hour=0, minute=0, second=0, microsecond=0)\n",
    "\n",
    "def print_commit_info(repo, branch, commit):\n",
    "    print(f\"リポジトリ: {repo.name}\")\n",
    "    print(f\"  ブランチ: {branch.name}\")\n",
    "    # print(f\"    コミットSHA: {commit.sha}\")\n",
    "    # print(f\"    作成者: {commit.commit.author.name}\")\n",
    "    print(f\"    日時: {commit.commit.author.date}\")\n",
    "    message_lines = commit.commit.message.split('\\n')\n",
    "    print(f\"      タイトル: {message_lines[0]}\")\n",
    "    # print(\"      本文:\")\n",
    "    # for line in message_lines[1:]:\n",
    "    #     print(f\"        {line}\")\n",
    "    # print(\"    変更されたファイル:\")\n",
    "    # for file in commit.files:\n",
    "    #     print(f\"      - {file.filename} ({file.status})\")\n",
    "    print(\"----\")\n",
    "\n",
    "for repo in g.get_user().get_repos(type='owner'):\n",
    "    repo_has_changes = False\n",
    "    \n",
    "    # リポジトリの全ブランチを取得\n",
    "    branches = repo.get_branches()\n",
    "    \n",
    "    for branch in branches:\n",
    "        try:\n",
    "            commits = repo.get_commits(sha=branch.name, since=today)\n",
    "            \n",
    "            for commit in commits:\n",
    "                commit_date = commit.commit.author.date\n",
    "                if commit_date >= today:\n",
    "                    if not repo_has_changes:\n",
    "                        repo_has_changes = True\n",
    "                        print_commit_info(repo, branch, commit)\n",
    "                    else:\n",
    "                        print_commit_info(repo, branch, commit)\n",
    "        except Exception as e:\n",
    "            print(f\"リポジトリ {repo.name} のブランチ {branch.name} の処理中にエラーが発生しました: {str(e)}\")"
   ]
  }
 ],
 "metadata": {
  "kernelspec": {
   "display_name": ".venv",
   "language": "python",
   "name": "python3"
  },
  "language_info": {
   "codemirror_mode": {
    "name": "ipython",
    "version": 3
   },
   "file_extension": ".py",
   "mimetype": "text/x-python",
   "name": "python",
   "nbconvert_exporter": "python",
   "pygments_lexer": "ipython3",
   "version": "3.9.5"
  }
 },
 "nbformat": 4,
 "nbformat_minor": 2
}
