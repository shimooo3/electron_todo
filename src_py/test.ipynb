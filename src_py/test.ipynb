{
 "cells": [
  {
   "cell_type": "markdown",
   "metadata": {},
   "source": [
    "todoリストのjsonファイルから抜き出す  \n",
    "メール本文確認用  \n",
    "main.js最終行の\"console.log('TODOs file path:', TODOS_FILE);\"で出力されるパスにjsonファイルが格納されている  "
   ]
  },
  {
   "cell_type": "code",
   "execution_count": null,
   "metadata": {},
   "outputs": [],
   "source": [
    "import json\n",
    "import os\n",
    "import datetime\n",
    "from dotenv import load_dotenv\n",
    "\n",
    "today = datetime.date.today()\n",
    "formatted_date = today.strftime(\"%Y%m%d\")\n",
    "\n",
    "load_dotenv(\".env\")\n",
    "TODOS_JSON_PATH = os.getenv(\"TODOS_JSON_PATH\")\n",
    "\n",
    "with open(TODOS_JSON_PATH, \"r\", encoding=\"utf-8\") as f:\n",
    "    json_data = json.load(f)\n",
    "\n",
    "done_true = [todo for todo in json_data if todo[\"done\"] == True]\n",
    "done_false = [todo for todo in json_data if todo[\"done\"] == False]\n",
    "\n",
    "def format_todos(todos):\n",
    "    return \"\\n\\n\".join([f\"{todo['title']}\\nメモ:\\n{todo['description']}\" for todo in todos])\n",
    "\n",
    "done_true_formatted = format_todos(done_true)\n",
    "done_false_formatted = format_todos(done_false)\n",
    "\n",
    "mail_body = f\"完了:\\n{done_true_formatted}\\n\\n実施中:\\n{done_false_formatted}\"\n",
    "\n",
    "with open(\"../nippou/\"+formatted_date+\".txt\", \"w\", encoding=\"utf-8\") as f:\n",
    "    f.write(mail_body)"
   ]
  },
  {
   "cell_type": "markdown",
   "metadata": {},
   "source": [
    "メール送信確認用"
   ]
  },
  {
   "cell_type": "code",
   "execution_count": null,
   "metadata": {},
   "outputs": [],
   "source": [
    "import smtplib\n",
    "from email.mime.text import MIMEText\n",
    "\n",
    "GMAIL_ADDRESS = os.getenv(\"GMAIL_ADDRESS\")\n",
    "GMAIL_PASSWORD = os.getenv(\"GMAIL_PASSWORD\")\n",
    "\n",
    "msg = MIMEText(mail_body)\n",
    "msg['Subject'] = '本日の進捗について('+formatted_date+')'\n",
    "msg['From'] = \"\"\n",
    "msg['To'] = ''\n",
    "\n",
    "smtp_server = 'smtp-mail.outlook.com'\n",
    "smtp_port = 465\n",
    "username = GMAIL_ADDRESS\n",
    "password = GMAIL_PASSWORD\n",
    "\n",
    "with smtplib.SMTP_SSL(smtp_server, smtp_port) as server:\n",
    "    server.login(username, password)\n",
    "    server.send_message(msg)\n",
    "\n",
    "print('メールが送信されました')\n"
   ]
  },
  {
   "cell_type": "code",
   "execution_count": null,
   "metadata": {},
   "outputs": [],
   "source": [
    "import smtplib\n",
    "from email.mime.text import MIMEText\n",
    "from email.mime.multipart import MIMEMultipart\n",
    "\n",
    "offic365_address = os.getenv(\"offic365_address\")\n",
    "offic365_password = os.getenv(\"offic365_password\")\n",
    "\n",
    "# メール設定\n",
    "smtp_server = \"smtp.office365.com\"\n",
    "smtp_port = 587\n",
    "sender_email = offic365_address\n",
    "sender_password = offic365_password\n",
    "recipient_email = offic365_address\n",
    "\n",
    "# メッセージの作成\n",
    "message = MIMEMultipart()\n",
    "message[\"From\"] = sender_email\n",
    "message[\"To\"] = recipient_email\n",
    "message[\"Subject\"] = \"テストメール from Python\"\n",
    "\n",
    "# メール本文\n",
    "body = \"これはPythonから送信されたテストメールです。\"\n",
    "message.attach(MIMEText(body, \"plain\"))\n",
    "\n",
    "try:\n",
    "    # SMTPサーバーへの接続\n",
    "    with smtplib.SMTP(smtp_server, smtp_port) as server:\n",
    "        server.set_debuglevel(1)\n",
    "        server.ehlo()  # サーバーとの対話を開始\n",
    "        server.starttls()  # TLS暗号化を開始\n",
    "        server.ehlo()  # 再度対話を開始（暗号化後）\n",
    "        \n",
    "        # 明示的な認証方法の指定\n",
    "        server.login(sender_email, sender_password)\n",
    "        \n",
    "        # メールの送信\n",
    "        server.send_message(message)\n",
    "        print(\"メールが正常に送信されました。\")\n",
    "except Exception as e:\n",
    "    print(f\"エラーが発生しました: {e}\")"
   ]
  }
 ],
 "metadata": {
  "kernelspec": {
   "display_name": ".venv",
   "language": "python",
   "name": "python3"
  },
  "language_info": {
   "codemirror_mode": {
    "name": "ipython",
    "version": 3
   },
   "file_extension": ".py",
   "mimetype": "text/x-python",
   "name": "python",
   "nbconvert_exporter": "python",
   "pygments_lexer": "ipython3",
   "version": "3.9.5"
  }
 },
 "nbformat": 4,
 "nbformat_minor": 2
}
