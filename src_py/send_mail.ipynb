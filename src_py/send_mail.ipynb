{
 "cells": [
  {
   "cell_type": "code",
   "execution_count": null,
   "metadata": {},
   "outputs": [],
   "source": []
  },
  {
   "cell_type": "markdown",
   "metadata": {},
   "source": [
    "todoリストのjsonファイルから抜き出す  \n",
    "メール本文確認用  \n",
    "main.js最終行の\"console.log('TODOs file path:', TODOS_FILE);\"で出力されるパスにjsonファイルが格納されている  "
   ]
  },
  {
   "cell_type": "code",
   "execution_count": 2,
   "metadata": {},
   "outputs": [],
   "source": [
    "import json\n",
    "import os\n",
    "import datetime\n",
    "from dotenv import load_dotenv\n",
    "\n",
    "today = datetime.date.today()\n",
    "formatted_date = today.strftime(\"%Y%m%d\")\n",
    "\n",
    "load_dotenv(\".env\")\n",
    "TODOS_JSON_PATH = os.getenv(\"TODOS_JSON_PATH\")\n",
    "\n",
    "with open(TODOS_JSON_PATH, \"r\", encoding=\"utf-8\") as f:\n",
    "    json_data = json.load(f)\n",
    "\n",
    "done_true = [todo for todo in json_data if todo[\"done\"] == True]\n",
    "done_false = [todo for todo in json_data if todo[\"done\"] == False]\n",
    "\n",
    "def format_todos(todos):\n",
    "    return \"\\n\\n\".join([f\"{todo['title']}\\nメモ:\\n{todo['description']}\" for todo in todos])\n",
    "\n",
    "done_true_formatted = format_todos(done_true)\n",
    "done_false_formatted = format_todos(done_false)\n",
    "\n",
    "mail_body = f\"完了:\\n{done_true_formatted}\\n\\n実施中:\\n{done_false_formatted}\"\n",
    "\n",
    "with open(\"../nippou/\"+formatted_date+\".txt\", \"w\", encoding=\"utf-8\") as f:\n",
    "    f.write(mail_body)"
   ]
  },
  {
   "cell_type": "markdown",
   "metadata": {},
   "source": [
    "メール送信確認用  \n",
    "表示名でギリ偽装 ”hoge@ac.jp ＜hoge@gmail.com＞”"
   ]
  },
  {
   "cell_type": "code",
   "execution_count": null,
   "metadata": {},
   "outputs": [],
   "source": [
    "import smtplib\n",
    "from email.mime.text import MIMEText\n",
    "import os\n",
    "from dotenv import load_dotenv\n",
    "from email.utils import formataddr\n",
    "\n",
    "GMAIL_ADDRESS = os.getenv(\"GMAIL_ADDRESS\")\n",
    "GMAIL_PASSWORD = os.getenv(\"GMAIL_PASSWORD\")\n",
    "OFFICE365_ADDRESS = os.getenv(\"OFFICE365_ADDRESS\")\n",
    "\n",
    "msg = MIMEText(mail_body)\n",
    "msg['Subject'] = '本日の進捗について('+formatted_date+')'\n",
    "msg['From'] = formataddr((OFFICE365_ADDRESS, GMAIL_ADDRESS))\n",
    "msg['To'] = OFFICE365_ADDRESS\n",
    "\n",
    "smtp_server = 'smtp.gmail.com'\n",
    "smtp_port = 465\n",
    "username = GMAIL_ADDRESS\n",
    "password = GMAIL_PASSWORD\n",
    "\n",
    "try:\n",
    "    with smtplib.SMTP_SSL(smtp_server, smtp_port) as server:\n",
    "        server.login(username, password)\n",
    "        server.send_message(msg)\n",
    "\n",
    "    print('メールが送信されました')\n",
    "except Exception as e:\n",
    "    print(f\"エラーが発生しました: {e}\")\n"
   ]
  },
  {
   "cell_type": "code",
   "execution_count": 4,
   "metadata": {},
   "outputs": [
    {
     "name": "stderr",
     "output_type": "stream",
     "text": [
      "send: 'ehlo [192.168.189.241]\\r\\n'\n",
      "reply: b'250-TYCP286CA0151.outlook.office365.com Hello [106.146.94.133]\\r\\n'\n",
      "reply: b'250-SIZE 157286400\\r\\n'\n",
      "reply: b'250-PIPELINING\\r\\n'\n",
      "reply: b'250-DSN\\r\\n'\n",
      "reply: b'250-ENHANCEDSTATUSCODES\\r\\n'\n",
      "reply: b'250-STARTTLS\\r\\n'\n",
      "reply: b'250-8BITMIME\\r\\n'\n",
      "reply: b'250-BINARYMIME\\r\\n'\n",
      "reply: b'250-CHUNKING\\r\\n'\n",
      "reply: b'250 SMTPUTF8\\r\\n'\n",
      "reply: retcode (250); Msg: b'TYCP286CA0151.outlook.office365.com Hello [106.146.94.133]\\nSIZE 157286400\\nPIPELINING\\nDSN\\nENHANCEDSTATUSCODES\\nSTARTTLS\\n8BITMIME\\nBINARYMIME\\nCHUNKING\\nSMTPUTF8'\n",
      "send: 'STARTTLS\\r\\n'\n",
      "reply: b'220 2.0.0 SMTP server ready\\r\\n'\n",
      "reply: retcode (220); Msg: b'2.0.0 SMTP server ready'\n",
      "send: 'ehlo [192.168.189.241]\\r\\n'\n",
      "reply: b'250-TYCP286CA0151.outlook.office365.com Hello [106.146.94.133]\\r\\n'\n",
      "reply: b'250-SIZE 157286400\\r\\n'\n",
      "reply: b'250-PIPELINING\\r\\n'\n",
      "reply: b'250-DSN\\r\\n'\n",
      "reply: b'250-ENHANCEDSTATUSCODES\\r\\n'\n",
      "reply: b'250-AUTH LOGIN XOAUTH2\\r\\n'\n",
      "reply: b'250-8BITMIME\\r\\n'\n",
      "reply: b'250-BINARYMIME\\r\\n'\n",
      "reply: b'250-CHUNKING\\r\\n'\n",
      "reply: b'250 SMTPUTF8\\r\\n'\n",
      "reply: retcode (250); Msg: b'TYCP286CA0151.outlook.office365.com Hello [106.146.94.133]\\nSIZE 157286400\\nPIPELINING\\nDSN\\nENHANCEDSTATUSCODES\\nAUTH LOGIN XOAUTH2\\n8BITMIME\\nBINARYMIME\\nCHUNKING\\nSMTPUTF8'\n",
      "send: 'AUTH LOGIN c2hpbW9ndWNoaS50YWlraS4yMUBzaGl6dW9rYS5hYy5qcA==\\r\\n'\n",
      "reply: b'334 UGFzc3dvcmQ6\\r\\n'\n",
      "reply: retcode (334); Msg: b'UGFzc3dvcmQ6'\n",
      "send: 'SEdpYm8wMzMw\\r\\n'\n"
     ]
    },
    {
     "name": "stdout",
     "output_type": "stream",
     "text": [
      "エラーが発生しました: (535, b'5.7.139 Authentication unsuccessful, the request did not meet the criteria to be authenticated successfully. Contact your administrator. [TYCP286CA0151.JPNP286.PROD.OUTLOOK.COM 2024-08-26T08:43:41.852Z 08DCC4E2FF9A6D61]')\n"
     ]
    },
    {
     "name": "stderr",
     "output_type": "stream",
     "text": [
      "reply: b'535 5.7.139 Authentication unsuccessful, the request did not meet the criteria to be authenticated successfully. Contact your administrator. [TYCP286CA0151.JPNP286.PROD.OUTLOOK.COM 2024-08-26T08:43:41.852Z 08DCC4E2FF9A6D61]\\r\\n'\n",
      "reply: retcode (535); Msg: b'5.7.139 Authentication unsuccessful, the request did not meet the criteria to be authenticated successfully. Contact your administrator. [TYCP286CA0151.JPNP286.PROD.OUTLOOK.COM 2024-08-26T08:43:41.852Z 08DCC4E2FF9A6D61]'\n",
      "send: 'QUIT\\r\\n'\n",
      "reply: b'221 2.0.0 Service closing transmission channel\\r\\n'\n",
      "reply: retcode (221); Msg: b'2.0.0 Service closing transmission channel'\n"
     ]
    }
   ],
   "source": [
    "import smtplib\n",
    "from email import message\n",
    "from dotenv import load_dotenv\n",
    "import os\n",
    "\n",
    "load_dotenv(\".env\")\n",
    "OFFICE365_ADDRESS = os.getenv(\"OFFICE365_ADDRESS\")\n",
    "OFFICE365_PASSWORD = os.getenv(\"OFFICE365_PASSWORD\")\n",
    "\n",
    "smtp_server = \"smtp.office365.com\"\n",
    "smtp_port = 587\n",
    "sender_email = OFFICE365_ADDRESS\n",
    "sender_password = OFFICE365_PASSWORD\n",
    "recipient_email = OFFICE365_ADDRESS\n",
    "\n",
    "message = message.EmailMessage()\n",
    "message[\"From\"] = sender_email\n",
    "message[\"To\"] = recipient_email\n",
    "message[\"Subject\"] = \"テストメール from Python\"\n",
    "\n",
    "body = \"これはPythonから送信されたテストメールです。\"\n",
    "message.set_content(body, subtype=\"plain\")\n",
    "\n",
    "try:\n",
    "    with smtplib.SMTP(smtp_server, smtp_port) as server:\n",
    "        server.set_debuglevel(1)\n",
    "        server.starttls()\n",
    "        server.login(sender_email, sender_password)\n",
    "        \n",
    "        server.send_message(message)\n",
    "        print(\"メールが正常に送信されました。\")\n",
    "except Exception as e:\n",
    "    print(f\"エラーが発生しました: {e}\")"
   ]
  },
  {
   "cell_type": "markdown",
   "metadata": {},
   "source": [
    "outlook利用タイプ"
   ]
  },
  {
   "cell_type": "code",
   "execution_count": null,
   "metadata": {},
   "outputs": [],
   "source": [
    "import win32com.client\n",
    "import win32com.client\n",
    "\n",
    "outlook = win32com.client.Dispatch(\"Outlook.Application\")\n",
    "\n",
    "mail_check_flag = False\n",
    "\n",
    "mail = outlook.CreateItem(0)\n",
    "\n",
    "mail.to = OFFICE365_ADDRESS\n",
    "mail.cc = ''\n",
    "mail.bcc = ''\n",
    "mail.subject = '本日の進捗について'\n",
    "mail.bodyFormat = 1\n",
    "mail.body = '''お疲れ様です．\n",
    "\n",
    "なんか今年の試験はコロナの影響でリモート面接になったらしいです。\n",
    "さっきマジョリカから聞きました。\n",
    "\n",
    "びっくりしたので取り急ぎご連絡です。\n",
    "\n",
    "よろしくお願いいたします。\n",
    "'''\n",
    "if mail_check_flag:\n",
    "    mail.display(True)\n",
    "else:\n",
    "    mail.Send()\n"
   ]
  },
  {
   "cell_type": "code",
   "execution_count": 8,
   "metadata": {},
   "outputs": [
    {
     "data": {
      "text/plain": [
       "<email.mime.text.MIMEText at 0x1c9462e5bb0>"
      ]
     },
     "execution_count": 8,
     "metadata": {},
     "output_type": "execute_result"
    }
   ],
   "source": [
    "import smtplib\n",
    "from email.mime.text import MIMEText\n",
    "from email.utils import formataddr\n",
    "import os\n",
    "from dotenv import load_dotenv\n",
    "\n",
    "GMAIL_ADDRESS = os.getenv(\"GMAIL_ADDRESS\")\n",
    "GMAIL_PASSWORD = os.getenv(\"GMAIL_PASSWORD\")\n",
    "OFFICE365_ADDRESS = os.getenv(\"OFFICE365_ADDRESS\")\n",
    "\n",
    "def send_email(sender_email, sender_password, receiver_email, subject, body, custom_sender_name):\n",
    "    # メッセージの作成\n",
    "    msg = MIMEText(body)\n",
    "    msg['Subject'] = subject\n",
    "    msg['From'] = OFFICE365_ADDRESS\n",
    "    #msg['From'] = formataddr((custom_sender_name, sender_email))\n",
    "    msg['To'] = receiver_email\n",
    "\n",
    "    # SMTPサーバーへの接続\n",
    "    with smtplib.SMTP('smtp.gmail.com', 587) as server:\n",
    "        server.starttls()\n",
    "        server.login(sender_email, sender_password)\n",
    "        msg['From'] = OFFICE365_ADDRESS\n",
    "        server.send_message(msg)\n",
    "        return msg\n",
    "\n",
    "# 使用例\n",
    "sender_email = GMAIL_ADDRESS\n",
    "sender_password = GMAIL_PASSWORD  # Gmailのアプリパスワードを使用\n",
    "receiver_email = OFFICE365_ADDRESS\n",
    "subject = \"テストメール\"\n",
    "body = \"これはテストメールです。\"\n",
    "custom_sender_name = OFFICE365_ADDRESS\n",
    "\n",
    "send_email(sender_email, sender_password, receiver_email, subject, body, custom_sender_name)"
   ]
  },
  {
   "cell_type": "code",
   "execution_count": 10,
   "metadata": {},
   "outputs": [
    {
     "data": {
      "text/plain": [
       "'shimoguchi.taiki.21@shizuoka.ac.jp'"
      ]
     },
     "execution_count": 10,
     "metadata": {},
     "output_type": "execute_result"
    }
   ],
   "source": [
    "msg['From']"
   ]
  }
 ],
 "metadata": {
  "kernelspec": {
   "display_name": ".venv",
   "language": "python",
   "name": "python3"
  },
  "language_info": {
   "codemirror_mode": {
    "name": "ipython",
    "version": 3
   },
   "file_extension": ".py",
   "mimetype": "text/x-python",
   "name": "python",
   "nbconvert_exporter": "python",
   "pygments_lexer": "ipython3",
   "version": "3.9.5"
  }
 },
 "nbformat": 4,
 "nbformat_minor": 2
}
